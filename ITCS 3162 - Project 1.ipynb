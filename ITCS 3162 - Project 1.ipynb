{
 "cells": [
  {
   "cell_type": "code",
   "execution_count": 17,
   "id": "52fac3be",
   "metadata": {},
   "outputs": [
    {
     "name": "stdout",
     "output_type": "stream",
     "text": [
      "Requirement already satisfied: pandas in c:\\users\\pizza\\appdata\\local\\programs\\python\\python312\\lib\\site-packages (2.3.2)\n",
      "Requirement already satisfied: numpy in c:\\users\\pizza\\appdata\\local\\programs\\python\\python312\\lib\\site-packages (2.3.2)\n",
      "Requirement already satisfied: matplotlib in c:\\users\\pizza\\appdata\\local\\programs\\python\\python312\\lib\\site-packages (3.10.6)\n",
      "Requirement already satisfied: kagglehub in c:\\users\\pizza\\appdata\\local\\programs\\python\\python312\\lib\\site-packages (0.3.13)\n",
      "Requirement already satisfied: python-dateutil>=2.8.2 in c:\\users\\pizza\\appdata\\roaming\\python\\python312\\site-packages (from pandas) (2.9.0.post0)\n",
      "Requirement already satisfied: pytz>=2020.1 in c:\\users\\pizza\\appdata\\local\\programs\\python\\python312\\lib\\site-packages (from pandas) (2025.2)\n",
      "Requirement already satisfied: tzdata>=2022.7 in c:\\users\\pizza\\appdata\\local\\programs\\python\\python312\\lib\\site-packages (from pandas) (2025.2)\n",
      "Requirement already satisfied: contourpy>=1.0.1 in c:\\users\\pizza\\appdata\\local\\programs\\python\\python312\\lib\\site-packages (from matplotlib) (1.3.3)\n",
      "Requirement already satisfied: cycler>=0.10 in c:\\users\\pizza\\appdata\\local\\programs\\python\\python312\\lib\\site-packages (from matplotlib) (0.12.1)\n",
      "Requirement already satisfied: fonttools>=4.22.0 in c:\\users\\pizza\\appdata\\local\\programs\\python\\python312\\lib\\site-packages (from matplotlib) (4.59.2)\n",
      "Requirement already satisfied: kiwisolver>=1.3.1 in c:\\users\\pizza\\appdata\\local\\programs\\python\\python312\\lib\\site-packages (from matplotlib) (1.4.9)\n",
      "Requirement already satisfied: packaging>=20.0 in c:\\users\\pizza\\appdata\\roaming\\python\\python312\\site-packages (from matplotlib) (25.0)\n",
      "Requirement already satisfied: pillow>=8 in c:\\users\\pizza\\appdata\\local\\programs\\python\\python312\\lib\\site-packages (from matplotlib) (11.3.0)\n",
      "Requirement already satisfied: pyparsing>=2.3.1 in c:\\users\\pizza\\appdata\\local\\programs\\python\\python312\\lib\\site-packages (from matplotlib) (3.2.3)\n",
      "Requirement already satisfied: pyyaml in c:\\users\\pizza\\appdata\\local\\programs\\python\\python312\\lib\\site-packages (from kagglehub) (6.0.2)\n",
      "Requirement already satisfied: requests in c:\\users\\pizza\\appdata\\local\\programs\\python\\python312\\lib\\site-packages (from kagglehub) (2.32.5)\n",
      "Requirement already satisfied: tqdm in c:\\users\\pizza\\appdata\\local\\programs\\python\\python312\\lib\\site-packages (from kagglehub) (4.67.1)\n",
      "Requirement already satisfied: six>=1.5 in c:\\users\\pizza\\appdata\\roaming\\python\\python312\\site-packages (from python-dateutil>=2.8.2->pandas) (1.17.0)\n",
      "Requirement already satisfied: charset_normalizer<4,>=2 in c:\\users\\pizza\\appdata\\local\\programs\\python\\python312\\lib\\site-packages (from requests->kagglehub) (3.4.3)\n",
      "Requirement already satisfied: idna<4,>=2.5 in c:\\users\\pizza\\appdata\\local\\programs\\python\\python312\\lib\\site-packages (from requests->kagglehub) (3.10)\n",
      "Requirement already satisfied: urllib3<3,>=1.21.1 in c:\\users\\pizza\\appdata\\local\\programs\\python\\python312\\lib\\site-packages (from requests->kagglehub) (2.5.0)\n",
      "Requirement already satisfied: certifi>=2017.4.17 in c:\\users\\pizza\\appdata\\local\\programs\\python\\python312\\lib\\site-packages (from requests->kagglehub) (2025.8.3)\n",
      "Requirement already satisfied: colorama in c:\\users\\pizza\\appdata\\roaming\\python\\python312\\site-packages (from tqdm->kagglehub) (0.4.6)\n"
     ]
    },
    {
     "name": "stderr",
     "output_type": "stream",
     "text": [
      "\n",
      "[notice] A new release of pip is available: 24.0 -> 25.2\n",
      "[notice] To update, run: python.exe -m pip install --upgrade pip\n"
     ]
    }
   ],
   "source": [
    "# Import the sys module, which provides access to system-specific parameters and functions\n",
    "import sys\n",
    "\n",
    "# Use pip to install the required Python packages in the current environment\n",
    "!{sys.executable} -m pip install pandas numpy matplotlib kagglehub\n"
   ]
  },
  {
   "cell_type": "code",
   "execution_count": 18,
   "id": "7f539401",
   "metadata": {},
   "outputs": [],
   "source": [
    "# Imports all required libraries\n",
    "import pandas as pd\n",
    "import numpy as np\n",
    "import matplotlib.pyplot as plt\n",
    "import kagglehub\n",
    "import os\n"
   ]
  },
  {
   "cell_type": "code",
   "execution_count": 19,
   "id": "1db60612",
   "metadata": {},
   "outputs": [],
   "source": [
    "# Use kagglehub to download the dataset from Kaggle\n",
    "path = kagglehub.dataset_download(\"ardayavuzkeskin/top-ai-tools-popularity-and-valuation\")\n"
   ]
  },
  {
   "cell_type": "code",
   "execution_count": null,
   "id": "4ebaa111",
   "metadata": {},
   "outputs": [
    {
     "data": {
      "text/html": [
       "<div>\n",
       "<style scoped>\n",
       "    .dataframe tbody tr th:only-of-type {\n",
       "        vertical-align: middle;\n",
       "    }\n",
       "\n",
       "    .dataframe tbody tr th {\n",
       "        vertical-align: top;\n",
       "    }\n",
       "\n",
       "    .dataframe thead th {\n",
       "        text-align: right;\n",
       "    }\n",
       "</style>\n",
       "<table border=\"1\" class=\"dataframe\">\n",
       "  <thead>\n",
       "    <tr style=\"text-align: right;\">\n",
       "      <th></th>\n",
       "      <th>AI Name</th>\n",
       "      <th>Developer/Company</th>\n",
       "      <th>Release Year</th>\n",
       "      <th>AI Type</th>\n",
       "      <th>Main Use Case</th>\n",
       "      <th>Popularity Score (1-10)</th>\n",
       "      <th>Estimated_Valuation_Billion_USD</th>\n",
       "    </tr>\n",
       "  </thead>\n",
       "  <tbody>\n",
       "    <tr>\n",
       "      <th>0</th>\n",
       "      <td>ChatGPT</td>\n",
       "      <td>OpenAI</td>\n",
       "      <td>2022</td>\n",
       "      <td>Chatbot</td>\n",
       "      <td>Text Generation</td>\n",
       "      <td>10.0</td>\n",
       "      <td>85.0</td>\n",
       "    </tr>\n",
       "    <tr>\n",
       "      <th>1</th>\n",
       "      <td>Claude</td>\n",
       "      <td>Anthropic</td>\n",
       "      <td>2023</td>\n",
       "      <td>Chatbot</td>\n",
       "      <td>Text Generation</td>\n",
       "      <td>8.5</td>\n",
       "      <td>4.5</td>\n",
       "    </tr>\n",
       "    <tr>\n",
       "      <th>2</th>\n",
       "      <td>Gemini</td>\n",
       "      <td>Google DeepMind</td>\n",
       "      <td>2023</td>\n",
       "      <td>Chatbot</td>\n",
       "      <td>Text Generation</td>\n",
       "      <td>8.5</td>\n",
       "      <td>15.0</td>\n",
       "    </tr>\n",
       "    <tr>\n",
       "      <th>3</th>\n",
       "      <td>Copilot</td>\n",
       "      <td>Microsoft</td>\n",
       "      <td>2023</td>\n",
       "      <td>Coding Assistant</td>\n",
       "      <td>Code Completion</td>\n",
       "      <td>8.0</td>\n",
       "      <td>NaN</td>\n",
       "    </tr>\n",
       "    <tr>\n",
       "      <th>4</th>\n",
       "      <td>Midjourney</td>\n",
       "      <td>Midjourney</td>\n",
       "      <td>2022</td>\n",
       "      <td>Image Generator</td>\n",
       "      <td>Art Generation</td>\n",
       "      <td>9.0</td>\n",
       "      <td>1.5</td>\n",
       "    </tr>\n",
       "  </tbody>\n",
       "</table>\n",
       "</div>"
      ],
      "text/plain": [
       "      AI Name Developer/Company  Release Year           AI Type  \\\n",
       "0     ChatGPT            OpenAI          2022           Chatbot   \n",
       "1      Claude         Anthropic          2023           Chatbot   \n",
       "2      Gemini   Google DeepMind          2023           Chatbot   \n",
       "3     Copilot         Microsoft          2023  Coding Assistant   \n",
       "4  Midjourney        Midjourney          2022   Image Generator   \n",
       "\n",
       "     Main Use Case  Popularity Score (1-10)  Estimated_Valuation_Billion_USD  \n",
       "0  Text Generation                     10.0                             85.0  \n",
       "1  Text Generation                      8.5                              4.5  \n",
       "2  Text Generation                      8.5                             15.0  \n",
       "3  Code Completion                      8.0                              NaN  \n",
       "4   Art Generation                      9.0                              1.5  "
      ]
     },
     "execution_count": 20,
     "metadata": {},
     "output_type": "execute_result"
    }
   ],
   "source": [
    "# Combine the downloaded dataset folder path with the CSV filename to get the full file path\n",
    "csv_path = os.path.join(path, \"AI_Tools_List.csv\")\n",
    "\n",
    "# Read the CSV file into a pandas DataFrame called 'df'\n",
    "df = pd.read_csv(csv_path, encoding=\"latin1\")\n",
    "\n",
    "# Preview the first 5 rows of the DataFrame to check the data and column names\n",
    "df.head()\n"
   ]
  },
  {
   "cell_type": "code",
   "execution_count": 21,
   "id": "833e588b",
   "metadata": {},
   "outputs": [
    {
     "data": {
      "text/plain": [
       "['AI Name',\n",
       " 'Developer/Company',\n",
       " 'Release Year',\n",
       " 'AI Type',\n",
       " 'Main Use Case',\n",
       " 'Popularity Score (1-10)',\n",
       " 'Estimated_Valuation_Billion_USD']"
      ]
     },
     "execution_count": 21,
     "metadata": {},
     "output_type": "execute_result"
    }
   ],
   "source": [
    "# Get a list of all column names in the DataFrame 'df'\n",
    "df.columns.tolist()\n"
   ]
  },
  {
   "cell_type": "code",
   "execution_count": 22,
   "id": "556d3fc8",
   "metadata": {},
   "outputs": [
    {
     "data": {
      "text/html": [
       "<div>\n",
       "<style scoped>\n",
       "    .dataframe tbody tr th:only-of-type {\n",
       "        vertical-align: middle;\n",
       "    }\n",
       "\n",
       "    .dataframe tbody tr th {\n",
       "        vertical-align: top;\n",
       "    }\n",
       "\n",
       "    .dataframe thead th {\n",
       "        text-align: right;\n",
       "    }\n",
       "</style>\n",
       "<table border=\"1\" class=\"dataframe\">\n",
       "  <thead>\n",
       "    <tr style=\"text-align: right;\">\n",
       "      <th></th>\n",
       "      <th>tool</th>\n",
       "      <th>valuation_billion</th>\n",
       "      <th>popularity</th>\n",
       "    </tr>\n",
       "  </thead>\n",
       "  <tbody>\n",
       "    <tr>\n",
       "      <th>0</th>\n",
       "      <td>ChatGPT</td>\n",
       "      <td>85.0</td>\n",
       "      <td>10.0</td>\n",
       "    </tr>\n",
       "    <tr>\n",
       "      <th>1</th>\n",
       "      <td>Claude</td>\n",
       "      <td>4.5</td>\n",
       "      <td>8.5</td>\n",
       "    </tr>\n",
       "    <tr>\n",
       "      <th>2</th>\n",
       "      <td>Gemini</td>\n",
       "      <td>15.0</td>\n",
       "      <td>8.5</td>\n",
       "    </tr>\n",
       "    <tr>\n",
       "      <th>3</th>\n",
       "      <td>Copilot</td>\n",
       "      <td>NaN</td>\n",
       "      <td>8.0</td>\n",
       "    </tr>\n",
       "    <tr>\n",
       "      <th>4</th>\n",
       "      <td>Midjourney</td>\n",
       "      <td>1.5</td>\n",
       "      <td>9.0</td>\n",
       "    </tr>\n",
       "  </tbody>\n",
       "</table>\n",
       "</div>"
      ],
      "text/plain": [
       "         tool  valuation_billion  popularity\n",
       "0     ChatGPT               85.0        10.0\n",
       "1      Claude                4.5         8.5\n",
       "2      Gemini               15.0         8.5\n",
       "3     Copilot                NaN         8.0\n",
       "4  Midjourney                1.5         9.0"
      ]
     },
     "execution_count": 22,
     "metadata": {},
     "output_type": "execute_result"
    }
   ],
   "source": [
    "# Rename selected columns for easier reference in analysis:\n",
    "# - \"AI Name\" → \"tool\"\n",
    "# - \"Estimated_Valuation_Billion_USD\" → \"valuation_billion\"\n",
    "# - \"Popularity Score (1-10)\" → \"popularity\"\n",
    "df = df.rename(columns={\n",
    "    \"AI Name\":\"tool\", \n",
    "    \"Estimated_Valuation_Billion_USD\":\"valuation_billion\", \n",
    "    \"Popularity Score (1-10)\":\"popularity\"\n",
    "})\n",
    "\n",
    "# Keep only the three columns we need for analysis: tool name, valuation, and popularity\n",
    "df = df[[\"tool\",\"valuation_billion\",\"popularity\"]]\n",
    "\n",
    "# Preview the first 5 rows to confirm the renaming and column selection worked correctly\n",
    "df.head()\n"
   ]
  },
  {
   "cell_type": "code",
   "execution_count": 23,
   "id": "dd8cc25a",
   "metadata": {},
   "outputs": [],
   "source": [
    "# Remove the row with index 2 from the DataFrame\n",
    "df = df.drop(2)\n",
    "\n",
    "# Reset the DataFrame index after dropping the row\n",
    "df.reset_index(drop=True, inplace=True)\n"
   ]
  },
  {
   "cell_type": "code",
   "execution_count": 25,
   "id": "70b55862",
   "metadata": {},
   "outputs": [
    {
     "data": {
      "text/plain": [
       "(38, 3)"
      ]
     },
     "execution_count": 25,
     "metadata": {},
     "output_type": "execute_result"
    }
   ],
   "source": [
    "# Remove any rows where 'valuation_billion' or 'popularity' is missing (NaN)\n",
    "clean = df.dropna(subset=[\"valuation_billion\",\"popularity\"])\n",
    "\n",
    "# This removes invalid or zero values that could skew analysis\n",
    "clean = clean[(clean[\"valuation_billion\"] > 0) & (clean[\"popularity\"] > 0)]\n",
    "\n",
    "# Display the shape of the cleaned DataFrame (number of rows and columns)\n",
    "clean.shape\n"
   ]
  },
  {
   "cell_type": "code",
   "execution_count": 26,
   "id": "d2948cbc",
   "metadata": {},
   "outputs": [
    {
     "data": {
      "text/html": [
       "<div>\n",
       "<style scoped>\n",
       "    .dataframe tbody tr th:only-of-type {\n",
       "        vertical-align: middle;\n",
       "    }\n",
       "\n",
       "    .dataframe tbody tr th {\n",
       "        vertical-align: top;\n",
       "    }\n",
       "\n",
       "    .dataframe thead th {\n",
       "        text-align: right;\n",
       "    }\n",
       "</style>\n",
       "<table border=\"1\" class=\"dataframe\">\n",
       "  <thead>\n",
       "    <tr style=\"text-align: right;\">\n",
       "      <th></th>\n",
       "      <th>valuation_billion</th>\n",
       "      <th>popularity</th>\n",
       "    </tr>\n",
       "  </thead>\n",
       "  <tbody>\n",
       "    <tr>\n",
       "      <th>count</th>\n",
       "      <td>38.000000</td>\n",
       "      <td>38.000000</td>\n",
       "    </tr>\n",
       "    <tr>\n",
       "      <th>mean</th>\n",
       "      <td>6.186842</td>\n",
       "      <td>6.881579</td>\n",
       "    </tr>\n",
       "    <tr>\n",
       "      <th>std</th>\n",
       "      <td>19.172431</td>\n",
       "      <td>0.940344</td>\n",
       "    </tr>\n",
       "    <tr>\n",
       "      <th>min</th>\n",
       "      <td>0.100000</td>\n",
       "      <td>5.500000</td>\n",
       "    </tr>\n",
       "    <tr>\n",
       "      <th>25%</th>\n",
       "      <td>0.100000</td>\n",
       "      <td>6.500000</td>\n",
       "    </tr>\n",
       "    <tr>\n",
       "      <th>50%</th>\n",
       "      <td>0.450000</td>\n",
       "      <td>6.500000</td>\n",
       "    </tr>\n",
       "    <tr>\n",
       "      <th>75%</th>\n",
       "      <td>1.462500</td>\n",
       "      <td>7.375000</td>\n",
       "    </tr>\n",
       "    <tr>\n",
       "      <th>max</th>\n",
       "      <td>85.000000</td>\n",
       "      <td>10.000000</td>\n",
       "    </tr>\n",
       "  </tbody>\n",
       "</table>\n",
       "</div>"
      ],
      "text/plain": [
       "       valuation_billion  popularity\n",
       "count          38.000000   38.000000\n",
       "mean            6.186842    6.881579\n",
       "std            19.172431    0.940344\n",
       "min             0.100000    5.500000\n",
       "25%             0.100000    6.500000\n",
       "50%             0.450000    6.500000\n",
       "75%             1.462500    7.375000\n",
       "max            85.000000   10.000000"
      ]
     },
     "execution_count": 26,
     "metadata": {},
     "output_type": "execute_result"
    }
   ],
   "source": [
    "# Generate statistics for the cleaned DataFrame\n",
    "clean.describe()\n"
   ]
  },
  {
   "cell_type": "code",
   "execution_count": 27,
   "id": "8531af31",
   "metadata": {},
   "outputs": [
    {
     "name": "stdout",
     "output_type": "stream",
     "text": [
      "Pearson correlation between valuation and popularity: 0.63\n"
     ]
    }
   ],
   "source": [
    "# Calculate the Pearson correlation between 'valuation_billion' and 'popularity'\n",
    "correlation = clean[\"valuation_billion\"].corr(clean[\"popularity\"], method=\"pearson\")\n",
    "\n",
    "# Print the correlation value rounded to 3 decimal places\n",
    "print(\"Pearson correlation between valuation and popularity:\", round(correlation,3))\n"
   ]
  },
  {
   "cell_type": "code",
   "execution_count": 28,
   "id": "6253cfd6",
   "metadata": {},
   "outputs": [
    {
     "data": {
      "image/png": "[encoded data removed]",
      "text/plain": [
       "<Figure size 800x600 with 2 Axes>"
      ]
     },
     "metadata": {},
     "output_type": "display_data"
    }
   ],
   "source": [
    "# Create a hexbin plot of valuation vs. popularity\n",
    "# Hexbin plots show the density of points in each hexagon, useful for overlapping data\n",
    "plt.figure(figsize=(8,6))\n",
    "plt.hexbin(clean[\"valuation_billion\"], clean[\"popularity\"], gridsize=20, cmap='Blues')\n",
    "plt.colorbar(label='Number of tools')\n",
    "plt.xlabel(\"Valuation (Billion USD)\")\n",
    "plt.ylabel(\"Popularity (1-10)\")\n",
    "plt.title(\"Valuation vs Popularity (hexbin)\")\n",
    "plt.show()\n"
   ]
  }
 ],
 "metadata": {
  "kernelspec": {
   "display_name": "Python 3",
   "language": "python",
   "name": "python3"
  },
  "language_info": {
   "codemirror_mode": {
    "name": "ipython",
    "version": 3
   },
   "file_extension": ".py",
   "mimetype": "text/x-python",
   "name": "python",
   "nbconvert_exporter": "python",
   "pygments_lexer": "ipython3",
   "version": "3.12.3"
  }
 },
 "nbformat": 4,
 "nbformat_minor": 5
}
